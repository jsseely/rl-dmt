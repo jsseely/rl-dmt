{
 "cells": [
  {
   "cell_type": "code",
   "execution_count": 297,
   "metadata": {},
   "outputs": [],
   "source": [
    "import torch\n",
    "import numpy as np\n",
    "import torch.nn as nn\n",
    "\n",
    "class MLP(nn.Module):\n",
    "    def __init__(self, input_dim, hidden_dim, output_dim):\n",
    "        super(MLP, self).__init__()\n",
    "        self.fc1 = nn.Linear(input_dim, hidden_dim, bias=True)\n",
    "        self.relu = nn.ReLU()\n",
    "        self.fc2 = nn.Linear(hidden_dim, output_dim, bias=True)\n",
    "        \n",
    "    def forward(self, x):\n",
    "        x = self.fc1(x)\n",
    "        x = self.relu(x)\n",
    "        x = self.fc2(x)\n",
    "        return x\n"
   ]
  },
  {
   "cell_type": "code",
   "execution_count": 298,
   "metadata": {},
   "outputs": [
    {
     "name": "stdout",
     "output_type": "stream",
     "text": [
      "Input:\n",
      "[[-0.5 -0.5]\n",
      " [-0.5  0.5]\n",
      " [ 0.5 -0.5]\n",
      " [ 0.5  0.5]]\n",
      "Output:\n",
      "[0 1 1 0]\n"
     ]
    }
   ],
   "source": [
    "\n",
    "# Define the XOR dataset\n",
    "X = np.array([[0, 0], [0, 1], [1, 0], [1, 1]]) - 0.5\n",
    "y = np.array([0, 1, 1, 0])\n",
    "\n",
    "# Print the dataset\n",
    "print(\"Input:\")\n",
    "print(X)\n",
    "print(\"Output:\")\n",
    "print(y)\n"
   ]
  },
  {
   "cell_type": "code",
   "execution_count": 275,
   "metadata": {},
   "outputs": [
    {
     "name": "stdout",
     "output_type": "stream",
     "text": [
      "Epoch [10/400], Loss: 0.7078\n",
      "Epoch [20/400], Loss: 0.7026\n",
      "Epoch [30/400], Loss: 0.6981\n",
      "Epoch [40/400], Loss: 0.6940\n",
      "Epoch [50/400], Loss: 0.6905\n",
      "Epoch [60/400], Loss: 0.6874\n",
      "Epoch [70/400], Loss: 0.6843\n",
      "Epoch [80/400], Loss: 0.6812\n",
      "Epoch [90/400], Loss: 0.6782\n",
      "Epoch [100/400], Loss: 0.6750\n",
      "Epoch [110/400], Loss: 0.6716\n",
      "Epoch [120/400], Loss: 0.6680\n",
      "Epoch [130/400], Loss: 0.6640\n",
      "Epoch [140/400], Loss: 0.6598\n",
      "Epoch [150/400], Loss: 0.6553\n",
      "Epoch [160/400], Loss: 0.6505\n",
      "Epoch [170/400], Loss: 0.6455\n",
      "Epoch [180/400], Loss: 0.6401\n",
      "Epoch [190/400], Loss: 0.6344\n",
      "Epoch [200/400], Loss: 0.6285\n",
      "Epoch [210/400], Loss: 0.6223\n",
      "Epoch [220/400], Loss: 0.6159\n",
      "Epoch [230/400], Loss: 0.6091\n",
      "Epoch [240/400], Loss: 0.6021\n",
      "Epoch [250/400], Loss: 0.5949\n",
      "Epoch [260/400], Loss: 0.5874\n",
      "Epoch [270/400], Loss: 0.5797\n",
      "Epoch [280/400], Loss: 0.5718\n",
      "Epoch [290/400], Loss: 0.5633\n",
      "Epoch [300/400], Loss: 0.5538\n",
      "Epoch [310/400], Loss: 0.5440\n",
      "Epoch [320/400], Loss: 0.5344\n",
      "Epoch [330/400], Loss: 0.5248\n",
      "Epoch [340/400], Loss: 0.5151\n",
      "Epoch [350/400], Loss: 0.5052\n",
      "Epoch [360/400], Loss: 0.4951\n",
      "Epoch [370/400], Loss: 0.4849\n",
      "Epoch [380/400], Loss: 0.4746\n",
      "Epoch [390/400], Loss: 0.4643\n",
      "Epoch [400/400], Loss: 0.4539\n"
     ]
    }
   ],
   "source": [
    "mlp = MLP(input_dim=2, hidden_dim=5, output_dim=2)\n",
    "\n",
    "# Define the loss function and optimizer\n",
    "criterion = nn.CrossEntropyLoss()\n",
    "optimizer = torch.optim.Adam(mlp.parameters(), lr=0.001)\n",
    "\n",
    "# Define the number of epochs\n",
    "num_epochs = 400\n",
    "\n",
    "# Training loop\n",
    "for epoch in range(num_epochs):\n",
    "    # Forward pass\n",
    "    outputs = mlp(torch.Tensor(X))\n",
    "    loss = criterion(outputs, torch.Tensor(y).long())\n",
    "\n",
    "    # Backward and optimize\n",
    "    optimizer.zero_grad()\n",
    "    loss.backward()\n",
    "    optimizer.step()\n",
    "\n",
    "    # Print the loss for every 10 epochs\n",
    "    if (epoch+1) % 10 == 0:\n",
    "        print(f'Epoch [{epoch+1}/{num_epochs}], Loss: {loss.item():.4f}')\n"
   ]
  },
  {
   "cell_type": "code",
   "execution_count": 276,
   "metadata": {},
   "outputs": [],
   "source": [
    "# Compute the classification accuracy\n",
    "y_pred = torch.argmax(mlp(torch.Tensor(X)), dim=1)"
   ]
  },
  {
   "cell_type": "code",
   "execution_count": 277,
   "metadata": {},
   "outputs": [],
   "source": [
    "import matplotlib.pyplot as plt"
   ]
  },
  {
   "cell_type": "code",
   "execution_count": 278,
   "metadata": {},
   "outputs": [
    {
     "data": {
      "image/png": "[encoded data removed]",
      "text/plain": [
       "<Figure size 640x480 with 1 Axes>"
      ]
     },
     "metadata": {},
     "output_type": "display_data"
    }
   ],
   "source": [
    "# Generate a grid of points in the input space R2\n",
    "x_min, x_max = X[:, 0].min() - 1.1, X[:, 0].max() + 1.1\n",
    "y_min, y_max = X[:, 1].min() - 1.1, X[:, 1].max() + 1.1\n",
    "xx, yy = np.meshgrid(np.arange(x_min, x_max, 0.001),\n",
    "                     np.arange(y_min, y_max, 0.001))\n",
    "grid_points = np.c_[xx.ravel(), yy.ravel()]\n",
    "\n",
    "# Pass each point through the trained MLP model to get the predicted class\n",
    "with torch.no_grad():\n",
    "    predictions = torch.argmax(mlp(torch.Tensor(grid_points)), dim=1)\n",
    "\n",
    "# Plot the grid points and color them according to the predicted class\n",
    "plt.figure()\n",
    "plt.contourf(xx, yy, predictions.numpy().reshape(xx.shape), alpha=0.2)\n",
    "\n",
    "# Overlay the input data points on the plot\n",
    "plt.plot(X[y==0, 0], X[y==0, 1], 'ob', label='0')\n",
    "plt.plot(X[y==1, 0], X[y==1, 1], 'xr', label='1')\n",
    "\n",
    "plt.xlabel('Input 1')\n",
    "plt.ylabel('Input 2')\n",
    "plt.title('Decision Boundary')\n",
    "plt.legend()\n",
    "plt.show()\n"
   ]
  },
  {
   "cell_type": "code",
   "execution_count": 279,
   "metadata": {},
   "outputs": [],
   "source": [
    "## NNs as DTs"
   ]
  },
  {
   "cell_type": "code",
   "execution_count": 280,
   "metadata": {},
   "outputs": [],
   "source": [
    "params = [p for p in mlp.parameters()]"
   ]
  },
  {
   "cell_type": "code",
   "execution_count": 282,
   "metadata": {},
   "outputs": [],
   "source": [
    "from copy import deepcopy\n",
    "\n",
    "W1 = params[0].detach().numpy()\n",
    "b1 = params[1].detach().numpy()\n",
    "Q1 = deepcopy(np.concatenate([W1, b1[:, None]], axis=-1))\n",
    "\n",
    "W2 = params[2].detach().numpy()\n",
    "b2 = params[3].detach().numpy()\n",
    "Q2 = deepcopy(np.concatenate([W2, b2[:, None]], axis=-1))"
   ]
  },
  {
   "cell_type": "code",
   "execution_count": 299,
   "metadata": {},
   "outputs": [],
   "source": [
    "# layer 0\n",
    "a = []\n",
    "\n",
    "W_hat = deepcopy(W1)\n",
    "\n",
    "x = X[0]\n",
    "for j in range(W1.shape[0]):\n",
    "    r = np.dot(W1[j, :], x) + b1[j]\n",
    "    a.append(int(r > 0))"
   ]
  },
  {
   "cell_type": "code",
   "execution_count": 322,
   "metadata": {},
   "outputs": [
    {
     "data": {
      "text/plain": [
       "array([ 4.56154644e-01,  5.67549825e-01,  1.25136226e-04, -8.25961120e-03,\n",
       "        0.00000000e+00])"
      ]
     },
     "execution_count": 322,
     "metadata": {},
     "output_type": "execute_result"
    }
   ],
   "source": [
    "np.array(a) * b1"
   ]
  },
  {
   "cell_type": "code",
   "execution_count": 313,
   "metadata": {},
   "outputs": [],
   "source": [
    "W1_eff = W1 * np.array(a)[:, None]"
   ]
  },
  {
   "cell_type": "code",
   "execution_count": 316,
   "metadata": {},
   "outputs": [],
   "source": [
    "x_out_eff = W1_eff @ x + np.array(a) * b1\n"
   ]
  },
  {
   "cell_type": "code",
   "execution_count": 321,
   "metadata": {},
   "outputs": [
    {
     "data": {
      "text/plain": [
       "tensor([0.6925, 0.1159], grad_fn=<ViewBackward0>)"
      ]
     },
     "execution_count": 321,
     "metadata": {},
     "output_type": "execute_result"
    }
   ],
   "source": [
    "mlp(torch.Tensor(X[0]))"
   ]
  },
  {
   "cell_type": "code",
   "execution_count": 320,
   "metadata": {},
   "outputs": [
    {
     "data": {
      "text/plain": [
       "array([0.69251703, 0.11594372])"
      ]
     },
     "execution_count": 320,
     "metadata": {},
     "output_type": "execute_result"
    }
   ],
   "source": [
    "W2 @ x_out_eff + b2"
   ]
  },
  {
   "cell_type": "code",
   "execution_count": null,
   "metadata": {},
   "outputs": [],
   "source": []
  },
  {
   "cell_type": "code",
   "execution_count": null,
   "metadata": {},
   "outputs": [],
   "source": []
  },
  {
   "cell_type": "code",
   "execution_count": 286,
   "metadata": {},
   "outputs": [],
   "source": [
    "W_eff = W2 @ ((W1 * np.array(a)[:, None]))"
   ]
  },
  {
   "cell_type": "code",
   "execution_count": 289,
   "metadata": {},
   "outputs": [
    {
     "data": {
      "text/plain": [
       "tensor([0.6925, 0.1159], grad_fn=<ViewBackward0>)"
      ]
     },
     "execution_count": 289,
     "metadata": {},
     "output_type": "execute_result"
    }
   ],
   "source": [
    "mlp(torch.Tensor(x))"
   ]
  },
  {
   "cell_type": "code",
   "execution_count": 290,
   "metadata": {},
   "outputs": [
    {
     "data": {
      "text/plain": [
       "array([0.26508028, 0.44886331])"
      ]
     },
     "execution_count": 290,
     "metadata": {},
     "output_type": "execute_result"
    }
   ],
   "source": [
    "W_eff @ x + b2"
   ]
  },
  {
   "cell_type": "code",
   "execution_count": null,
   "metadata": {},
   "outputs": [],
   "source": []
  },
  {
   "cell_type": "code",
   "execution_count": null,
   "metadata": {},
   "outputs": [],
   "source": []
  },
  {
   "cell_type": "code",
   "execution_count": null,
   "metadata": {},
   "outputs": [],
   "source": []
  },
  {
   "cell_type": "code",
   "execution_count": 294,
   "metadata": {},
   "outputs": [
    {
     "data": {
      "text/plain": [
       "[1, 1, 1, 1, 0]"
      ]
     },
     "execution_count": 294,
     "metadata": {},
     "output_type": "execute_result"
    }
   ],
   "source": [
    "a"
   ]
  },
  {
   "cell_type": "code",
   "execution_count": 296,
   "metadata": {},
   "outputs": [
    {
     "data": {
      "text/plain": [
       "array([ True,  True,  True,  True, False])"
      ]
     },
     "execution_count": 296,
     "metadata": {},
     "output_type": "execute_result"
    }
   ],
   "source": [
    "(W1 @ x + b1 > 0)"
   ]
  },
  {
   "cell_type": "markdown",
   "metadata": {},
   "source": [
    "Relu MLP as decision tree:\n",
    "\n",
    "For relu network that maps R^n -> R^m -> R^p\n",
    "\n",
    "We have m-many comparisons of first layer.\n",
    "For 2nd layer, there are 2^m possible filters for W_hat.\n",
    "So we have 2^m many comparisons..\n",
    "\n",
    "So about 2^m total nodes.\n",
    "\n",
    "For a given input/query x, we go through m decisions first. Then that immediatley rules out a bunch of future notes, since our filter is defined. But just for this one query.\n",
    "\n",
    "Mapping onto boolean fn chapter -- not super obvious how to do so.\n",
    "- for each input we have m queries we can ask first.\n",
    "- seeker wants to know if sigma is in m.... a simplex here corresponds to a set of comparisons?\n",
    "- hmm, not sure what this maps out to."
   ]
  },
  {
   "cell_type": "code",
   "execution_count": null,
   "metadata": {},
   "outputs": [],
   "source": []
  },
  {
   "cell_type": "code",
   "execution_count": null,
   "metadata": {},
   "outputs": [],
   "source": []
  },
  {
   "cell_type": "code",
   "execution_count": null,
   "metadata": {},
   "outputs": [],
   "source": []
  },
  {
   "cell_type": "code",
   "execution_count": null,
   "metadata": {},
   "outputs": [],
   "source": []
  },
  {
   "cell_type": "code",
   "execution_count": null,
   "metadata": {},
   "outputs": [],
   "source": []
  }
 ],
 "metadata": {
  "kernelspec": {
   "display_name": "myenv2",
   "language": "python",
   "name": "python3"
  },
  "language_info": {
   "codemirror_mode": {
    "name": "ipython",
    "version": 3
   },
   "file_extension": ".py",
   "mimetype": "text/x-python",
   "name": "python",
   "nbconvert_exporter": "python",
   "pygments_lexer": "ipython3",
   "version": "3.11.2"
  }
 },
 "nbformat": 4,
 "nbformat_minor": 2
}
