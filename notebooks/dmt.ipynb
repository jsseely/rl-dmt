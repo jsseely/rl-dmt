{
 "cells": [
  {
   "cell_type": "markdown",
   "metadata": {},
   "source": [
    "# DMT\n",
    "Mazeworld with discrete morse theory"
   ]
  },
  {
   "cell_type": "code",
   "execution_count": 1,
   "metadata": {},
   "outputs": [],
   "source": [
    "import sys\n",
    "\n",
    "sys.path.append(\"../src\")\n",
    "\n",
    "from environments import LineEnv, GridEnv, MazeEnv\n",
    "from policies import BaseAgent, QLearningAgent\n",
    "import matplotlib.pyplot as plt\n",
    "import networkx as nx\n",
    "\n",
    "\n",
    "import numpy as np"
   ]
  },
  {
   "cell_type": "code",
   "execution_count": 2,
   "metadata": {},
   "outputs": [
    {
     "name": "stdout",
     "output_type": "stream",
     "text": [
      "Optimal Value Function: [-8.999916 -7.999922 -6.999929 -5.999937 -4.999946 -3.999956  0.\n",
      " -7.999916 -6.999923 -5.999931 -4.99994  -3.99995  -2.999961 -1.999973\n",
      " -0.999986 -8.999874 -7.999889 -6.999905 -5.999922 -3.999942 -1.999966\n",
      " -9.999668 -8.999689 -7.99973  -6.999753 -4.999917 -2.99994  -7.999711\n",
      " -5.999777 -5.999804 -4.999833 -3.999863 -2.999894 -6.999738 -5.999771\n",
      " -4.999805 -1.999926 -3.99984  -0.999962  0.       -0.99996  -1.999919\n",
      " -2.999877 -2.999868 -1.999911 -0.999955  0.      ]\n",
      "Optimal Policy: [0 0 0 0 0 0 0 1 1 1 1 1 1 1 2 1 1 1 2 2 2 1 0 1 0 2 2 0 0 1 1 1 0 1 1 0 0\n",
      " 0 0 0 3 3 3 1 1 1 0]\n"
     ]
    }
   ],
   "source": [
    "env = MazeEnv()\n",
    "agent = BaseAgent(env, gamma=1)\n",
    "agent.value_iteration()\n",
    "optimal_value_function = agent.value_function\n",
    "\n",
    "print(\"Optimal Value Function:\", agent.value_function)\n",
    "print(\"Optimal Policy:\", agent.policy)"
   ]
  },
  {
   "cell_type": "code",
   "execution_count": 3,
   "metadata": {},
   "outputs": [
    {
     "name": "stdout",
     "output_type": "stream",
     "text": [
      "Optimal Q-function computed.\n"
     ]
    }
   ],
   "source": [
    "env = MazeEnv()\n",
    "agent = QLearningAgent(env, gamma=1, alpha=0.1)\n",
    "agent.compute_optimal_q_function()\n",
    "optimal_q_function = agent.q_table"
   ]
  },
  {
   "cell_type": "code",
   "execution_count": 4,
   "metadata": {},
   "outputs": [
    {
     "data": {
      "text/plain": [
       "array([-8.999916, -8.999922, -9.999916, -9.999916])"
      ]
     },
     "execution_count": 4,
     "metadata": {},
     "output_type": "execute_result"
    }
   ],
   "source": [
    "agent.q_table[0]"
   ]
  },
  {
   "cell_type": "code",
   "execution_count": 5,
   "metadata": {},
   "outputs": [
    {
     "data": {
      "text/plain": [
       "-8.999915999999999"
      ]
     },
     "execution_count": 5,
     "metadata": {},
     "output_type": "execute_result"
    }
   ],
   "source": [
    "optimal_value_function[0]"
   ]
  },
  {
   "cell_type": "code",
   "execution_count": 6,
   "metadata": {},
   "outputs": [
    {
     "data": {
      "text/plain": [
       "True"
      ]
     },
     "execution_count": 6,
     "metadata": {},
     "output_type": "execute_result"
    }
   ],
   "source": [
    "# check if optimal q is optimal v\n",
    "np.all(np.max(agent.q_table, axis=-1) == optimal_value_function)"
   ]
  },
  {
   "cell_type": "markdown",
   "metadata": {},
   "source": [
    "# env to graph\n",
    "\n",
    "TODO: Must be careful about nodes and edges and double counting edges. Define graph exactly as needed. Otherwise we have a wonky discrete morse function calculation. i.e. and edge is defined as connecting two states iff you actually move to that state (no bonking to a wall)"
   ]
  },
  {
   "cell_type": "code",
   "execution_count": 7,
   "metadata": {},
   "outputs": [
    {
     "data": {
      "text/plain": [
       "dict_keys([0, 1, 2, 3, 4, 5, 6, 7, 8, 9, 10, 11, 12, 13, 14, 15, 16, 17, 18, 19, 20, 21, 22, 23, 24, 25, 26, 27, 28, 29, 30, 31, 32, 33, 34, 35, 36, 37, 38, 39, 40, 41, 42, 43, 44, 45, 46])"
      ]
     },
     "execution_count": 7,
     "metadata": {},
     "output_type": "execute_result"
    }
   ],
   "source": [
    "\n",
    "env._state_to_grid.keys()"
   ]
  },
  {
   "cell_type": "code",
   "execution_count": 8,
   "metadata": {},
   "outputs": [],
   "source": [
    "# sort a tuple (state, next_state) so that it is always in the same order\n",
    "\n",
    "sorted_tuple = lambda x: tuple(sorted(x))"
   ]
  },
  {
   "cell_type": "code",
   "execution_count": 9,
   "metadata": {},
   "outputs": [
    {
     "data": {
      "text/plain": [
       "(NodeView((0, 1, 2, 3, 4, 5, 6, 7, 8, 9, 10, 11, 12, 13, 14, 15, 16, 17, 18, 19, 20, 21, 22, 23, 24, 25, 26, 27, 28, 29, 30, 31, 32, 33, 34, 35, 36, 37, 38, 39, 40, 41, 42, 43, 44, 45, 46)),\n",
       " EdgeDataView([(0, 7, {}), (0, 1, {}), (1, 8, {}), (1, 2, {}), (2, 9, {}), (2, 3, {}), (3, 10, {}), (3, 4, {}), (4, 11, {}), (4, 5, {}), (5, 12, {}), (6, 14, {}), (7, 15, {}), (7, 8, {}), (8, 16, {}), (8, 9, {}), (9, 17, {}), (9, 10, {}), (10, 18, {}), (10, 11, {}), (11, 12, {}), (12, 19, {}), (12, 13, {}), (13, 14, {}), (14, 20, {}), (15, 21, {}), (15, 16, {}), (16, 22, {}), (16, 17, {}), (17, 23, {}), (17, 18, {}), (18, 24, {}), (19, 25, {}), (20, 26, {}), (21, 22, {}), (22, 27, {}), (22, 23, {}), (23, 24, {}), (24, 28, {}), (25, 30, {}), (26, 32, {}), (27, 33, {}), (28, 35, {}), (28, 29, {}), (29, 30, {}), (30, 31, {}), (31, 32, {}), (32, 36, {}), (33, 34, {}), (34, 35, {}), (35, 37, {}), (36, 38, {}), (37, 42, {}), (38, 46, {}), (39, 40, {}), (40, 41, {}), (41, 42, {}), (42, 43, {}), (43, 44, {}), (44, 45, {}), (45, 46, {})]))"
      ]
     },
     "execution_count": 9,
     "metadata": {},
     "output_type": "execute_result"
    }
   ],
   "source": [
    "# Create a directed graph\n",
    "G = nx.Graph()\n",
    "\n",
    "node_values = {}\n",
    "edge_values = {}\n",
    "\n",
    "\n",
    "# Add vertices (states) to the graph\n",
    "for state in env._state_to_grid.keys():\n",
    "    G.add_node(state)\n",
    "    node_values[state] = np.max(optimal_q_function[state])\n",
    "\n",
    "# Add edges (actions) to the graph\n",
    "for state in G.nodes:\n",
    "    if state in env.terminal_states:\n",
    "        continue\n",
    "    for action in range(4):  # There are four possible actions: up, right, down, left\n",
    "        next_state, reward = env.get_next_state_and_reward(state, action)\n",
    "        if next_state == state:\n",
    "            continue\n",
    "        if sorted_tuple((state, next_state)) in edge_values:\n",
    "            current_q_value = edge_values[sorted_tuple((state, next_state))]\n",
    "        else:\n",
    "            current_q_value = -np.inf\n",
    "\n",
    "        G.add_edge(state, next_state)\n",
    "        edge_values[sorted_tuple((state, next_state))] = np.max(\n",
    "            [optimal_q_function[state][action], current_q_value]\n",
    "        )\n",
    "\n",
    "# Now G is the graph representation of the environment\n",
    "G.nodes(), G.edges(data=True)"
   ]
  },
  {
   "cell_type": "code",
   "execution_count": 10,
   "metadata": {},
   "outputs": [],
   "source": [
    "# Step 1: Define a Real-Valued Function on the Graph\n",
    "# Assigning a random value to each node\n",
    "# node_values = {node: float(optimal_value_function[node]) for node in G.nodes}\n",
    "# edge_values = {(u, v): max(node_values[u], node_values[v]) for u, v in G.edges}\n",
    "\n",
    "# Adding the values as a node attribute\n",
    "nx.set_node_attributes(G, node_values, \"node_value\")\n",
    "nx.set_edge_attributes(G, edge_values, \"edge_value\")"
   ]
  },
  {
   "cell_type": "code",
   "execution_count": 11,
   "metadata": {},
   "outputs": [
    {
     "data": {
      "text/plain": [
       "[(0, {'node_value': -8.999915999999999}),\n",
       " (1, {'node_value': -7.999922}),\n",
       " (2, {'node_value': -6.999929}),\n",
       " (3, {'node_value': -5.999937000000001}),\n",
       " (4, {'node_value': -4.9999460000000004})]"
      ]
     },
     "execution_count": 11,
     "metadata": {},
     "output_type": "execute_result"
    }
   ],
   "source": [
    "list(G.nodes(data=True))[:5]"
   ]
  },
  {
   "cell_type": "code",
   "execution_count": 12,
   "metadata": {},
   "outputs": [
    {
     "data": {
      "text/plain": [
       "[(0, 7, {'edge_value': -8.999915999999999}),\n",
       " (0, 1, {'edge_value': -8.999922}),\n",
       " (1, 8, {'edge_value': -7.999922}),\n",
       " (1, 2, {'edge_value': -7.999928}),\n",
       " (2, 9, {'edge_value': -6.999929})]"
      ]
     },
     "execution_count": 12,
     "metadata": {},
     "output_type": "execute_result"
    }
   ],
   "source": [
    "list(G.edges(data=True))[:5]"
   ]
  },
  {
   "cell_type": "code",
   "execution_count": 13,
   "metadata": {},
   "outputs": [
    {
     "data": {
      "text/plain": [
       "{'node_value': -8.999915999999999}"
      ]
     },
     "execution_count": 13,
     "metadata": {},
     "output_type": "execute_result"
    }
   ],
   "source": [
    "G.nodes[0]"
   ]
  },
  {
   "cell_type": "code",
   "execution_count": 14,
   "metadata": {},
   "outputs": [
    {
     "data": {
      "text/plain": [
       "AtlasView({7: {'edge_value': -8.999915999999999}, 1: {'edge_value': -8.999922}})"
      ]
     },
     "execution_count": 14,
     "metadata": {},
     "output_type": "execute_result"
    }
   ],
   "source": [
    "G[0]"
   ]
  },
  {
   "cell_type": "code",
   "execution_count": 15,
   "metadata": {},
   "outputs": [],
   "source": [
    "import networkx as nx\n",
    "\n",
    "# Assuming G is already defined and populated with your nodes and edges\n",
    "\n",
    "\n",
    "def classify_simplices(G):\n",
    "    critical_nodes = []\n",
    "    regular_nodes = []\n",
    "    critical_edges = []\n",
    "    regular_edges = []\n",
    "\n",
    "    # Function to classify nodes\n",
    "    for node, data in G.nodes(data=True):\n",
    "        node_value = -data[\"node_value\"]  # take negative of value fn to get morse fn\n",
    "        edges = G.edges(node, data=True)\n",
    "        exception_count = sum(\n",
    "            -edge_data[\"edge_value\"] <= node_value for _, _, edge_data in edges\n",
    "        )  # take negative of edge value to get morse fn\n",
    "\n",
    "        if exception_count == 0:\n",
    "            critical_nodes.append(node)\n",
    "        elif exception_count == 1:\n",
    "            regular_nodes.append(node)\n",
    "        else:\n",
    "            print(node, data, exception_count)\n",
    "            return None, None, None, None  # Not a discrete Morse function\n",
    "\n",
    "    # Function to classify edges\n",
    "    for edge in G.edges(data=True):\n",
    "        edge_value = -edge[2][\"edge_value\"]\n",
    "        faces = [edge[0], edge[1]]\n",
    "        exception_count = sum(\n",
    "            -G.nodes[face][\"node_value\"] >= edge_value for face in faces\n",
    "        )\n",
    "\n",
    "        if exception_count == 0:\n",
    "            critical_edges.append(edge)\n",
    "        elif exception_count == 1:\n",
    "            regular_edges.append(edge)\n",
    "        else:\n",
    "            print(edge, edge_value, exception_count)\n",
    "            return None, None, None, None  # Not a discrete Morse function\n",
    "\n",
    "    return critical_nodes, regular_nodes, critical_edges, regular_edges"
   ]
  },
  {
   "cell_type": "code",
   "execution_count": 16,
   "metadata": {},
   "outputs": [
    {
     "name": "stdout",
     "output_type": "stream",
     "text": [
      "Discrete Morse function found\n",
      "Critical Nodes: [6, 39, 46]\n",
      "Regular Nodes: [0, 1, 2, 3, 4, 5, 7, 8, 9, 10, 11, 12, 13, 14, 15, 16, 17, 18, 19, 20, 21, 22, 23, 24, 25, 26, 27, 28, 29, 30, 31, 32, 33, 34, 35, 36, 37, 38, 40, 41, 42, 43, 44, 45]\n",
      "Critical Edges: [(0, 1, {'edge_value': -8.999922}), (1, 2, {'edge_value': -7.999928}), (2, 3, {'edge_value': -6.999935000000001}), (3, 4, {'edge_value': -5.999943}), (4, 5, {'edge_value': -4.999952}), (7, 15, {'edge_value': -8.999901}), (8, 16, {'edge_value': -7.999907}), (9, 17, {'edge_value': -6.999914}), (15, 21, {'edge_value': -9.999853000000002}), (16, 22, {'edge_value': -8.999867000000002}), (17, 23, {'edge_value': -7.999882000000001}), (18, 24, {'edge_value': -6.999898000000001}), (22, 23, {'edge_value': -8.999708}), (25, 30, {'edge_value': -5.999808}), (26, 32, {'edge_value': -3.9998679999999998}), (28, 29, {'edge_value': -6.999748}), (42, 43, {'edge_value': -3.999826})]\n",
      "Regular Edges: [(0, 7, {'edge_value': -8.999915999999999}), (1, 8, {'edge_value': -7.999922}), (2, 9, {'edge_value': -6.999929}), (3, 10, {'edge_value': -5.999937000000001}), (4, 11, {'edge_value': -4.9999460000000004}), (5, 12, {'edge_value': -3.999956}), (6, 14, {'edge_value': -0.999986}), (7, 8, {'edge_value': -7.999916}), (8, 9, {'edge_value': -6.999923}), (9, 10, {'edge_value': -5.999931}), (10, 18, {'edge_value': -5.999922000000001}), (10, 11, {'edge_value': -4.9999400000000005}), (11, 12, {'edge_value': -3.99995}), (12, 19, {'edge_value': -3.999942}), (12, 13, {'edge_value': -2.999961}), (13, 14, {'edge_value': -1.999973}), (14, 20, {'edge_value': -1.9999660000000001}), (15, 16, {'edge_value': -8.999874000000002}), (16, 17, {'edge_value': -7.999889000000001}), (17, 18, {'edge_value': -6.999905000000001}), (19, 25, {'edge_value': -4.999917}), (20, 26, {'edge_value': -2.99994}), (21, 22, {'edge_value': -9.999668}), (22, 27, {'edge_value': -8.999689}), (23, 24, {'edge_value': -7.9997300000000005}), (24, 28, {'edge_value': -6.999753}), (27, 33, {'edge_value': -7.999711}), (28, 35, {'edge_value': -5.999777}), (29, 30, {'edge_value': -5.999804}), (30, 31, {'edge_value': -4.999833}), (31, 32, {'edge_value': -3.999863}), (32, 36, {'edge_value': -2.999894}), (33, 34, {'edge_value': -6.999738}), (34, 35, {'edge_value': -5.999771}), (35, 37, {'edge_value': -4.999805}), (36, 38, {'edge_value': -1.9999259999999999}), (37, 42, {'edge_value': -3.9998400000000003}), (38, 46, {'edge_value': -0.999962}), (39, 40, {'edge_value': -0.99996}), (40, 41, {'edge_value': -1.999919}), (41, 42, {'edge_value': -2.999877}), (43, 44, {'edge_value': -2.999868}), (44, 45, {'edge_value': -1.999911}), (45, 46, {'edge_value': -0.999955})]\n"
     ]
    }
   ],
   "source": [
    "# Run the classification function\n",
    "critical_nodes, regular_nodes, critical_edges, regular_edges = classify_simplices(G)\n",
    "\n",
    "# Check if it's a discrete Morse function and print the results\n",
    "if critical_nodes is not None:\n",
    "    print(\"Discrete Morse function found\")\n",
    "    print(\"Critical Nodes:\", critical_nodes)\n",
    "    print(\"Regular Nodes:\", regular_nodes)\n",
    "    print(\"Critical Edges:\", critical_edges)\n",
    "    print(\"Regular Edges:\", regular_edges)\n",
    "else:\n",
    "    print(\"Not a discrete Morse function\")"
   ]
  },
  {
   "cell_type": "code",
   "execution_count": 17,
   "metadata": {},
   "outputs": [
    {
     "data": {
      "text/plain": [
       "[(0, 1, {'edge_value': -8.999922}),\n",
       " (1, 2, {'edge_value': -7.999928}),\n",
       " (2, 3, {'edge_value': -6.999935000000001}),\n",
       " (3, 4, {'edge_value': -5.999943}),\n",
       " (4, 5, {'edge_value': -4.999952}),\n",
       " (7, 15, {'edge_value': -8.999901}),\n",
       " (8, 16, {'edge_value': -7.999907}),\n",
       " (9, 17, {'edge_value': -6.999914}),\n",
       " (15, 21, {'edge_value': -9.999853000000002}),\n",
       " (16, 22, {'edge_value': -8.999867000000002}),\n",
       " (17, 23, {'edge_value': -7.999882000000001}),\n",
       " (18, 24, {'edge_value': -6.999898000000001}),\n",
       " (22, 23, {'edge_value': -8.999708}),\n",
       " (25, 30, {'edge_value': -5.999808}),\n",
       " (26, 32, {'edge_value': -3.9998679999999998}),\n",
       " (28, 29, {'edge_value': -6.999748}),\n",
       " (42, 43, {'edge_value': -3.999826})]"
      ]
     },
     "execution_count": 17,
     "metadata": {},
     "output_type": "execute_result"
    }
   ],
   "source": [
    "critical_edges"
   ]
  },
  {
   "cell_type": "code",
   "execution_count": 18,
   "metadata": {},
   "outputs": [
    {
     "data": {
      "image/png": "[encoded data removed]",
      "text/plain": [
       "<Figure size 800x800 with 2 Axes>"
      ]
     },
     "metadata": {},
     "output_type": "display_data"
    }
   ],
   "source": [
    "agent.plot_best_action_q_values()"
   ]
  },
  {
   "cell_type": "code",
   "execution_count": 19,
   "metadata": {},
   "outputs": [],
   "source": [
    "def visualize_graph(G, env, critical_nodes, critical_edges):\n",
    "    # Get node positions from env._state_to_grid\n",
    "    pos = {state: env._state_to_grid[state] for state in G.nodes}\n",
    "\n",
    "    # Create a figure and axis\n",
    "    fig, ax = plt.subplots()\n",
    "\n",
    "    # Draw the graph\n",
    "    nx.draw(G, pos, with_labels=False, node_color=\"black\", node_size=100, ax=ax)\n",
    "\n",
    "    # Highlight critical nodes and edges in red\n",
    "    nx.draw_networkx_nodes(G, pos, nodelist=critical_nodes, node_color=\"red\", node_size=100, ax=ax)\n",
    "    nx.draw_networkx_edges(G, pos, edgelist=critical_edges, edge_color=\"red\", ax=ax)\n",
    "\n",
    "    # Show the plot\n",
    "    plt.show()"
   ]
  },
  {
   "cell_type": "code",
   "execution_count": 20,
   "metadata": {},
   "outputs": [
    {
     "data": {
      "image/png": "[encoded data removed]",
      "text/plain": [
       "<Figure size 640x480 with 1 Axes>"
      ]
     },
     "metadata": {},
     "output_type": "display_data"
    }
   ],
   "source": [
    "visualize_graph(G, env, critical_nodes, critical_edges)"
   ]
  }
 ],
 "metadata": {
  "kernelspec": {
   "display_name": "myenv2",
   "language": "python",
   "name": "python3"
  },
  "language_info": {
   "codemirror_mode": {
    "name": "ipython",
    "version": 3
   },
   "file_extension": ".py",
   "mimetype": "text/x-python",
   "name": "python",
   "nbconvert_exporter": "python",
   "pygments_lexer": "ipython3",
   "version": "3.11.2"
  }
 },
 "nbformat": 4,
 "nbformat_minor": 2
}
