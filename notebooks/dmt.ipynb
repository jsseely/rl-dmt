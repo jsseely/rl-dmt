{
 "cells": [
  {
   "cell_type": "markdown",
   "metadata": {},
   "source": [
    "# DMT"
   ]
  },
  {
   "cell_type": "code",
   "execution_count": 2,
   "metadata": {},
   "outputs": [],
   "source": [
    "import sys\n",
    "\n",
    "sys.path.append(\"../src\")\n",
    "\n",
    "from environments import LineEnv, GridEnv, MazeEnv\n",
    "from policies import BaseAgent, QLearningAgent\n",
    "import matplotlib.pyplot as plt\n",
    "import networkx as nx\n",
    "\n",
    "\n",
    "import numpy as np"
   ]
  },
  {
   "cell_type": "code",
   "execution_count": 17,
   "metadata": {},
   "outputs": [
    {
     "name": "stdout",
     "output_type": "stream",
     "text": [
      "Optimal Value Function: [-14. -13. -12. -11. -14. -13. -14. -15. -14. -10. -11. -12.  -8.  -9.\n",
      " -11. -10.  -9.  -8.  -7. -11.  -6.  -5.  -4. -14. -13. -12. -13.  -3.\n",
      " -14. -14. -15.  -1.  -2. -15.   0.]\n",
      "Optimal Policy: [0 1 1 0 1 0 3 1 2 0 3 0 0 3 1 1 1 1 0 2 1 1 0 1 1 2 3 0 2 2 3 0 3 2 0]\n"
     ]
    }
   ],
   "source": [
    "env = MazeEnv()\n",
    "agent = BaseAgent(env, gamma=1)\n",
    "agent.value_iteration()\n",
    "optimal_value_function = agent.value_function\n",
    "\n",
    "print(\"Optimal Value Function:\", agent.value_function)\n",
    "print(\"Optimal Policy:\", agent.policy)"
   ]
  },
  {
   "cell_type": "code",
   "execution_count": 19,
   "metadata": {},
   "outputs": [
    {
     "name": "stdout",
     "output_type": "stream",
     "text": [
      "Optimal Q-function computed.\n"
     ]
    }
   ],
   "source": [
    "env = MazeEnv()\n",
    "agent = QLearningAgent(env, gamma=1, alpha=0.1)\n",
    "agent.compute_optimal_q_function()\n",
    "optimal_q_function = agent.q_table"
   ]
  },
  {
   "cell_type": "code",
   "execution_count": 22,
   "metadata": {},
   "outputs": [
    {
     "data": {
      "text/plain": [
       "True"
      ]
     },
     "execution_count": 22,
     "metadata": {},
     "output_type": "execute_result"
    }
   ],
   "source": [
    "# check if optimal q is optimal v\n",
    "np.all(np.max(agent.q_table, axis=-1) == optimal_value_function)"
   ]
  },
  {
   "cell_type": "markdown",
   "metadata": {},
   "source": [
    "# env to graph\n",
    "\n",
    "TODO: Must be careful about nodes and edges and double counting edges. Define graph exactly as needed. Otherwise we have a wonky discrete morse function calculation. i.e. and edge is defined as connecting two states iff you actually move to that state (no bonking to a wall)"
   ]
  },
  {
   "cell_type": "code",
   "execution_count": 25,
   "metadata": {},
   "outputs": [
    {
     "data": {
      "text/plain": [
       "dict_keys([0, 1, 2, 3, 4, 5, 6, 7, 8, 9, 10, 11, 12, 13, 14, 15, 16, 17, 18, 19, 20, 21, 22, 23, 24, 25, 26, 27, 28, 29, 30, 31, 32, 33, 34])"
      ]
     },
     "execution_count": 25,
     "metadata": {},
     "output_type": "execute_result"
    }
   ],
   "source": [
    "\n",
    "env._state_to_grid.keys()"
   ]
  },
  {
   "cell_type": "code",
   "execution_count": 26,
   "metadata": {},
   "outputs": [
    {
     "data": {
      "text/plain": [
       "(NodeView((0, 1, 2, 3, 4, 5, 6, 7, 8, 9, 10, 11, 12, 13, 14, 15, 16, 17, 18, 19, 20, 21, 22, 23, 24, 25, 26, 27, 28, 29, 30, 31, 32, 33, 34)),\n",
       " EdgeDataView([(0, 5, {}), (0, 0, {}), (1, 8, {}), (1, 2, {}), (1, 1, {}), (2, 2, {}), (2, 3, {}), (3, 9, {}), (3, 3, {}), (4, 4, {}), (4, 5, {}), (5, 11, {}), (5, 6, {}), (6, 6, {}), (6, 7, {}), (7, 7, {}), (7, 8, {}), (8, 8, {}), (9, 13, {}), (9, 10, {}), (9, 9, {}), (10, 10, {}), (11, 14, {}), (11, 11, {}), (12, 18, {}), (12, 13, {}), (12, 12, {}), (13, 13, {}), (14, 14, {}), (14, 15, {}), (15, 19, {}), (15, 16, {}), (15, 15, {}), (16, 16, {}), (16, 17, {}), (17, 17, {}), (17, 18, {}), (18, 20, {}), (18, 18, {}), (19, 25, {}), (19, 19, {}), (20, 20, {}), (20, 21, {}), (21, 21, {}), (21, 22, {}), (22, 27, {}), (22, 22, {}), (23, 23, {}), (23, 24, {}), (24, 28, {}), (24, 25, {}), (24, 24, {}), (25, 25, {}), (25, 26, {}), (26, 29, {}), (26, 26, {}), (27, 32, {}), (27, 27, {}), (28, 33, {}), (28, 28, {}), (29, 29, {}), (29, 30, {}), (30, 30, {}), (31, 34, {}), (31, 32, {}), (31, 31, {}), (32, 32, {}), (33, 33, {}), (34, 34, {})]))"
      ]
     },
     "execution_count": 26,
     "metadata": {},
     "output_type": "execute_result"
    }
   ],
   "source": [
    "# Create a directed graph\n",
    "G = nx.Graph()\n",
    "\n",
    "# Add vertices (states) to the graph\n",
    "for state in env._state_to_grid.keys():\n",
    "    G.add_node(state)\n",
    "\n",
    "# Add edges (actions) to the graph\n",
    "for state in G.nodes:\n",
    "    for action in range(4):  # There are four possible actions: up, right, down, left\n",
    "        next_state, reward = env.get_next_state_and_reward(state, action)\n",
    "        G.add_edge(state, next_state)\n",
    "\n",
    "# Now G is the graph representation of the environment\n",
    "G.nodes(), G.edges(data=True)"
   ]
  },
  {
   "cell_type": "code",
   "execution_count": 28,
   "metadata": {},
   "outputs": [],
   "source": [
    "# Step 1: Define a Real-Valued Function on the Graph\n",
    "# Assigning a random value to each node\n",
    "node_values = {node: float(optimal_value_function[node]) for node in G.nodes}\n",
    "edge_values = {(u, v): max(node_values[u], node_values[v]) for u, v in G.edges}\n",
    "\n",
    "# Adding the values as a node attribute\n",
    "nx.set_node_attributes(G, node_values, \"node_value\")\n",
    "nx.set_edge_attributes(G, edge_values, \"edge_value\")"
   ]
  },
  {
   "cell_type": "code",
   "execution_count": 35,
   "metadata": {},
   "outputs": [
    {
     "data": {
      "text/plain": [
       "[(0, {'node_value': -14.0}),\n",
       " (1, {'node_value': -13.0}),\n",
       " (2, {'node_value': -12.0}),\n",
       " (3, {'node_value': -11.0}),\n",
       " (4, {'node_value': -14.0}),\n",
       " (5, {'node_value': -13.0}),\n",
       " (6, {'node_value': -14.0}),\n",
       " (7, {'node_value': -15.0}),\n",
       " (8, {'node_value': -14.0}),\n",
       " (9, {'node_value': -10.0})]"
      ]
     },
     "execution_count": 35,
     "metadata": {},
     "output_type": "execute_result"
    }
   ],
   "source": [
    "list(G.nodes(data=True))[:10]"
   ]
  },
  {
   "cell_type": "code",
   "execution_count": 36,
   "metadata": {},
   "outputs": [
    {
     "data": {
      "text/plain": [
       "[(0, 5, {'edge_value': -13.0}),\n",
       " (0, 0, {'edge_value': -14.0}),\n",
       " (1, 8, {'edge_value': -13.0}),\n",
       " (1, 2, {'edge_value': -12.0}),\n",
       " (1, 1, {'edge_value': -13.0}),\n",
       " (2, 2, {'edge_value': -12.0}),\n",
       " (2, 3, {'edge_value': -11.0}),\n",
       " (3, 9, {'edge_value': -10.0}),\n",
       " (3, 3, {'edge_value': -11.0}),\n",
       " (4, 4, {'edge_value': -14.0})]"
      ]
     },
     "execution_count": 36,
     "metadata": {},
     "output_type": "execute_result"
    }
   ],
   "source": [
    "list(G.edges(data=True))[:10]"
   ]
  },
  {
   "cell_type": "code",
   "execution_count": 41,
   "metadata": {},
   "outputs": [
    {
     "name": "stdout",
     "output_type": "stream",
     "text": [
      "{0: 'local minimum', 1: 'saddle point', 2: 'saddle point', 3: 'saddle point', 4: 'local minimum', 5: 'saddle point', 6: 'saddle point', 7: 'local minimum', 8: 'saddle point', 9: 'saddle point', 10: 'local minimum', 11: 'saddle point', 12: 'saddle point', 13: 'saddle point', 14: 'saddle point', 15: 'saddle point', 16: 'saddle point', 17: 'saddle point', 18: 'saddle point', 19: 'saddle point', 20: 'saddle point', 21: 'saddle point', 22: 'saddle point', 23: 'local minimum', 24: 'saddle point', 25: 'saddle point', 26: 'saddle point', 27: 'saddle point', 28: 'saddle point', 29: 'saddle point', 30: 'local minimum', 31: 'saddle point', 32: 'saddle point', 33: 'local minimum', 34: 'local maximum'}\n"
     ]
    }
   ],
   "source": [
    "import networkx as nx\n",
    "\n",
    "# Assuming G is your graph object\n",
    "\n",
    "\n",
    "def classify_critical_point(node, G):\n",
    "    node_value = G.nodes[node][\"node_value\"]\n",
    "    neighbors = list(G.neighbors(node))\n",
    "\n",
    "    higher = lower = 0\n",
    "    for neighbor in neighbors:\n",
    "        if G.nodes[neighbor][\"node_value\"] > node_value:\n",
    "            higher += 1\n",
    "        elif G.nodes[neighbor][\"node_value\"] < node_value:\n",
    "            lower += 1\n",
    "\n",
    "    if higher == 0 and lower > 0:\n",
    "        return \"local maximum\"\n",
    "    elif lower == 0 and higher > 0:\n",
    "        return \"local minimum\"\n",
    "    elif higher > 0 and lower > 0:\n",
    "        return \"saddle point\"\n",
    "    else:\n",
    "        return \"flat\"\n",
    "\n",
    "\n",
    "def find_critical_points(G):\n",
    "    critical_points = {}\n",
    "    for node in G.nodes:\n",
    "        critical_type = classify_critical_point(node, G)\n",
    "        if critical_type != \"flat\":\n",
    "            critical_points[node] = critical_type\n",
    "    return critical_points\n",
    "\n",
    "\n",
    "critical_points = find_critical_points(G)\n",
    "print(critical_points)"
   ]
  },
  {
   "cell_type": "code",
   "execution_count": 43,
   "metadata": {},
   "outputs": [
    {
     "data": {
      "text/plain": [
       "{0: 'local minimum',\n",
       " 1: 'saddle point',\n",
       " 2: 'saddle point',\n",
       " 3: 'saddle point',\n",
       " 4: 'local minimum',\n",
       " 5: 'saddle point',\n",
       " 6: 'saddle point',\n",
       " 7: 'local minimum',\n",
       " 8: 'saddle point',\n",
       " 9: 'saddle point',\n",
       " 10: 'local minimum',\n",
       " 11: 'saddle point',\n",
       " 12: 'saddle point',\n",
       " 13: 'saddle point',\n",
       " 14: 'saddle point',\n",
       " 15: 'saddle point',\n",
       " 16: 'saddle point',\n",
       " 17: 'saddle point',\n",
       " 18: 'saddle point',\n",
       " 19: 'saddle point',\n",
       " 20: 'saddle point',\n",
       " 21: 'saddle point',\n",
       " 22: 'saddle point',\n",
       " 23: 'local minimum',\n",
       " 24: 'saddle point',\n",
       " 25: 'saddle point',\n",
       " 26: 'saddle point',\n",
       " 27: 'saddle point',\n",
       " 28: 'saddle point',\n",
       " 29: 'saddle point',\n",
       " 30: 'local minimum',\n",
       " 31: 'saddle point',\n",
       " 32: 'saddle point',\n",
       " 33: 'local minimum',\n",
       " 34: 'local maximum'}"
      ]
     },
     "execution_count": 43,
     "metadata": {},
     "output_type": "execute_result"
    }
   ],
   "source": [
    "critical_points"
   ]
  },
  {
   "cell_type": "code",
   "execution_count": 58,
   "metadata": {},
   "outputs": [
    {
     "name": "stdout",
     "output_type": "stream",
     "text": [
      "It's a discrete Morse function!\n",
      "Critical Vertices: [5]\n",
      "Regular Vertices: [0, 1, 2, 3, 4, 6, 7, 8, 9, 10, 11, 12, 13, 14, 15, 16, 17, 18, 19, 20, 21, 22, 23, 24, 25, 26, 27, 28, 29, 30, 31, 32, 33, 34]\n",
      "Critical Edges: [(0, 5), (0, 0), (1, 8), (1, 2), (1, 1), (2, 2), (2, 3), (3, 9), (3, 3), (4, 4), (4, 5), (5, 11), (5, 6), (6, 6), (6, 7), (7, 7), (7, 8), (8, 8), (9, 13), (9, 10), (9, 9), (10, 10), (11, 14), (11, 11), (12, 18), (12, 13), (12, 12), (13, 13), (14, 14), (14, 15), (15, 19), (15, 16), (15, 15), (16, 16), (16, 17), (17, 17), (17, 18), (18, 20), (18, 18), (19, 25), (19, 19), (20, 20), (20, 21), (21, 21), (21, 22), (22, 27), (22, 22), (23, 23), (23, 24), (24, 28), (24, 25), (24, 24), (25, 25), (25, 26), (26, 29), (26, 26), (27, 32), (27, 27), (28, 33), (28, 28), (29, 29), (29, 30), (30, 30), (31, 34), (31, 32), (31, 31), (32, 32), (33, 33), (34, 34)]\n",
      "Regular Edges: []\n"
     ]
    }
   ],
   "source": [
    "import networkx as nx\n",
    "\n",
    "\n",
    "def classify_points(G):\n",
    "    critical_vertices = []\n",
    "    regular_vertices = []\n",
    "    critical_edges = []\n",
    "    regular_edges = []\n",
    "    invalid_simplices = []\n",
    "\n",
    "    # Classify vertices\n",
    "    for v, data in G.nodes(data=True):\n",
    "        node_value = data[\"node_value\"]\n",
    "        cofaces = [e for e in G.edges(v, data=True) if e[2][\"edge_value\"] >= node_value]\n",
    "\n",
    "        if len(cofaces) == G.degree(v):\n",
    "            critical_vertices.append(v)\n",
    "        elif len(cofaces) == G.degree(v) - 1:\n",
    "            regular_vertices.append(v)\n",
    "        else:\n",
    "            invalid_simplices.append(v)\n",
    "\n",
    "    # Classify edges\n",
    "    for u, v, data in G.edges(data=True):\n",
    "        edge_value = data[\"edge_value\"]\n",
    "        faces = [u, v]\n",
    "\n",
    "        if all(G.nodes[f][\"node_value\"] <= edge_value for f in faces):\n",
    "            critical_edges.append((u, v))\n",
    "        elif sum(G.nodes[f][\"node_value\"] > edge_value for f in faces) == 1:\n",
    "            regular_edges.append((u, v))\n",
    "        else:\n",
    "            invalid_simplices.append((u, v))\n",
    "\n",
    "    # Check for invalid simplices\n",
    "    is_morse_function = len(invalid_simplices) == 0\n",
    "\n",
    "    return {\n",
    "        \"is_morse_function\": is_morse_function,\n",
    "        \"critical_vertices\": critical_vertices,\n",
    "        \"regular_vertices\": regular_vertices,\n",
    "        \"critical_edges\": critical_edges,\n",
    "        \"regular_edges\": regular_edges,\n",
    "        \"invalid_simplices\": invalid_simplices,\n",
    "    }\n",
    "\n",
    "\n",
    "# Example usage\n",
    "# G = nx.Graph()\n",
    "# Here you should add your nodes and edges with their respective values\n",
    "# ...\n",
    "\n",
    "result = classify_points(G)\n",
    "if result[\"is_morse_function\"]:\n",
    "    print(\"It's a discrete Morse function!\")\n",
    "    print(\"Critical Vertices:\", result[\"critical_vertices\"])\n",
    "    print(\"Regular Vertices:\", result[\"regular_vertices\"])\n",
    "    print(\"Critical Edges:\", result[\"critical_edges\"])\n",
    "    print(\"Regular Edges:\", result[\"regular_edges\"])\n",
    "else:\n",
    "    print(\n",
    "        \"Not a discrete Morse function. Invalid simplices:\", result[\"invalid_simplices\"]\n",
    "    )"
   ]
  },
  {
   "cell_type": "code",
   "execution_count": null,
   "metadata": {},
   "outputs": [],
   "source": []
  },
  {
   "cell_type": "code",
   "execution_count": 57,
   "metadata": {},
   "outputs": [
    {
     "name": "stdout",
     "output_type": "stream",
     "text": [
      "Discrete Morse function found\n",
      "Critical Nodes: [0, 1, 2, 3, 4, 5, 6, 7, 8, 9, 10, 11, 12, 13, 14, 15, 16, 17, 18, 19, 20, 21, 22, 23, 24, 25, 26, 27, 28, 29, 30, 31, 32, 33, 34]\n",
      "Regular Nodes: []\n",
      "Critical Edges: [(0, 5, {'edge_value': -13.0}), (0, 0, {'edge_value': -14.0}), (1, 8, {'edge_value': -13.0}), (1, 2, {'edge_value': -12.0}), (1, 1, {'edge_value': -13.0}), (2, 2, {'edge_value': -12.0}), (2, 3, {'edge_value': -11.0}), (3, 9, {'edge_value': -10.0}), (3, 3, {'edge_value': -11.0}), (4, 4, {'edge_value': -14.0}), (4, 5, {'edge_value': -13.0}), (5, 11, {'edge_value': -12.0}), (5, 6, {'edge_value': -13.0}), (6, 6, {'edge_value': -14.0}), (6, 7, {'edge_value': -14.0}), (7, 7, {'edge_value': -15.0}), (7, 8, {'edge_value': -14.0}), (8, 8, {'edge_value': -14.0}), (9, 13, {'edge_value': -9.0}), (9, 10, {'edge_value': -10.0}), (9, 9, {'edge_value': -10.0}), (10, 10, {'edge_value': -11.0}), (11, 14, {'edge_value': -11.0}), (11, 11, {'edge_value': -12.0}), (12, 18, {'edge_value': -7.0}), (12, 13, {'edge_value': -8.0}), (12, 12, {'edge_value': -8.0}), (13, 13, {'edge_value': -9.0}), (14, 14, {'edge_value': -11.0}), (14, 15, {'edge_value': -10.0}), (15, 19, {'edge_value': -10.0}), (15, 16, {'edge_value': -9.0}), (15, 15, {'edge_value': -10.0}), (16, 16, {'edge_value': -9.0}), (16, 17, {'edge_value': -8.0}), (17, 17, {'edge_value': -8.0}), (17, 18, {'edge_value': -7.0}), (18, 20, {'edge_value': -6.0}), (18, 18, {'edge_value': -7.0}), (19, 25, {'edge_value': -11.0}), (19, 19, {'edge_value': -11.0}), (20, 20, {'edge_value': -6.0}), (20, 21, {'edge_value': -5.0}), (21, 21, {'edge_value': -5.0}), (21, 22, {'edge_value': -4.0}), (22, 27, {'edge_value': -3.0}), (22, 22, {'edge_value': -4.0}), (23, 23, {'edge_value': -14.0}), (23, 24, {'edge_value': -13.0}), (24, 28, {'edge_value': -13.0}), (24, 25, {'edge_value': -12.0}), (24, 24, {'edge_value': -13.0}), (25, 25, {'edge_value': -12.0}), (25, 26, {'edge_value': -12.0}), (26, 29, {'edge_value': -13.0}), (26, 26, {'edge_value': -13.0}), (27, 32, {'edge_value': -2.0}), (27, 27, {'edge_value': -3.0}), (28, 33, {'edge_value': -14.0}), (28, 28, {'edge_value': -14.0}), (29, 29, {'edge_value': -14.0}), (29, 30, {'edge_value': -14.0}), (30, 30, {'edge_value': -15.0}), (31, 34, {'edge_value': 0.0}), (31, 32, {'edge_value': -1.0}), (31, 31, {'edge_value': -1.0}), (32, 32, {'edge_value': -2.0}), (33, 33, {'edge_value': -15.0}), (34, 34, {'edge_value': 0.0})]\n",
      "Regular Edges: []\n"
     ]
    }
   ],
   "source": [
    "import networkx as nx\n",
    "\n",
    "# Assuming G is already defined and populated with your nodes and edges\n",
    "\n",
    "\n",
    "def classify_simplices(G):\n",
    "    critical_nodes = []\n",
    "    regular_nodes = []\n",
    "    critical_edges = []\n",
    "    regular_edges = []\n",
    "\n",
    "    # Function to classify nodes\n",
    "    for node, data in G.nodes(data=True):\n",
    "        node_value = data[\"node_value\"]\n",
    "        edges = G.edges(node, data=True)\n",
    "        exception_count = sum(\n",
    "            edge_data[\"edge_value\"] < node_value for _, _, edge_data in edges\n",
    "        )\n",
    "\n",
    "        if exception_count == 0:\n",
    "            critical_nodes.append(node)\n",
    "        elif exception_count == 1:\n",
    "            regular_nodes.append(node)\n",
    "        else:\n",
    "            return None, None, None, None  # Not a discrete Morse function\n",
    "\n",
    "    # Function to classify edges\n",
    "    for edge in G.edges(data=True):\n",
    "        edge_value = edge[2][\"edge_value\"]\n",
    "        faces = [edge[0], edge[1]]\n",
    "        exception_count = sum(\n",
    "            G.nodes[face][\"node_value\"] > edge_value for face in faces\n",
    "        )\n",
    "\n",
    "        if exception_count == 0:\n",
    "            critical_edges.append(edge)\n",
    "        elif exception_count == 1:\n",
    "            regular_edges.append(edge)\n",
    "        else:\n",
    "            return None, None, None, None  # Not a discrete Morse function\n",
    "\n",
    "    return critical_nodes, regular_nodes, critical_edges, regular_edges\n",
    "\n",
    "\n",
    "# Run the classification function\n",
    "critical_nodes, regular_nodes, critical_edges, regular_edges = classify_simplices(G)\n",
    "\n",
    "# Check if it's a discrete Morse function and print the results\n",
    "if critical_nodes is not None:\n",
    "    print(\"Discrete Morse function found\")\n",
    "    print(\"Critical Nodes:\", critical_nodes)\n",
    "    print(\"Regular Nodes:\", regular_nodes)\n",
    "    print(\"Critical Edges:\", critical_edges)\n",
    "    print(\"Regular Edges:\", regular_edges)\n",
    "else:\n",
    "    print(\"Not a discrete Morse function\")"
   ]
  },
  {
   "cell_type": "code",
   "execution_count": 55,
   "metadata": {},
   "outputs": [
    {
     "data": {
      "text/plain": [
       "{'maxima': [34], 'minima': [0, 4, 7, 10, 23, 30, 33], 'saddle': []}"
      ]
     },
     "execution_count": 55,
     "metadata": {},
     "output_type": "execute_result"
    }
   ],
   "source": [
    "critical_points"
   ]
  },
  {
   "cell_type": "code",
   "execution_count": null,
   "metadata": {},
   "outputs": [],
   "source": []
  },
  {
   "cell_type": "code",
   "execution_count": 56,
   "metadata": {},
   "outputs": [
    {
     "data": {
      "image/png": "[encoded data removed]",
      "text/plain": [
       "<Figure size 640x480 with 2 Axes>"
      ]
     },
     "metadata": {},
     "output_type": "display_data"
    }
   ],
   "source": [
    "agent.plot_best_action_q_values()"
   ]
  }
 ],
 "metadata": {
  "kernelspec": {
   "display_name": "myenv2",
   "language": "python",
   "name": "python3"
  },
  "language_info": {
   "codemirror_mode": {
    "name": "ipython",
    "version": 3
   },
   "file_extension": ".py",
   "mimetype": "text/x-python",
   "name": "python",
   "nbconvert_exporter": "python",
   "pygments_lexer": "ipython3",
   "version": "3.11.2"
  }
 },
 "nbformat": 4,
 "nbformat_minor": 2
}
