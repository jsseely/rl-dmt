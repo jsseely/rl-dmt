{
 "cells": [
  {
   "cell_type": "markdown",
   "metadata": {},
   "source": [
    "# Init"
   ]
  },
  {
   "cell_type": "code",
   "execution_count": 16,
   "metadata": {},
   "outputs": [],
   "source": [
    "import sys\n",
    "sys.path.append('../src')\n",
    "\n",
    "from environments import LineEnv, GridEnv, MazeEnv\n",
    "from policies import HardCodedAgent\n",
    "\n",
    "import numpy as np"
   ]
  },
  {
   "cell_type": "markdown",
   "metadata": {},
   "source": [
    "# Grid"
   ]
  },
  {
   "cell_type": "code",
   "execution_count": 17,
   "metadata": {},
   "outputs": [
    {
     "name": "stdout",
     "output_type": "stream",
     "text": [
      "Value Function: [  0.          -7.55860372 -10.48587627 -11.38377519  -7.55860372\n",
      "  -9.59194855 -10.53696679 -10.49293913 -10.48587627 -10.53696679\n",
      "  -9.59779382  -7.56791637 -11.38377519 -10.49293913  -7.56791637\n",
      "   0.        ]\n"
     ]
    }
   ],
   "source": [
    "env = GridEnv()\n",
    "agent = HardCodedAgent(env)\n",
    "value_function = agent.evaluate_policy()\n",
    "print(\"Value Function:\", value_function)"
   ]
  },
  {
   "cell_type": "code",
   "execution_count": 18,
   "metadata": {},
   "outputs": [
    {
     "name": "stdout",
     "output_type": "stream",
     "text": [
      "Optimal Value Function: [ 0.     -1.     -1.95   -2.8525 -1.     -1.95   -2.8525 -1.95   -1.95\n",
      " -2.8525 -1.95   -1.     -2.8525 -1.95   -1.      0.    ]\n",
      "Optimal Policy: [0 3 3 0 2 2 0 0 2 0 0 0 1 1 1 0]\n"
     ]
    }
   ],
   "source": [
    "env = GridEnv()\n",
    "agent = HardCodedAgent(env)\n",
    "agent.value_iteration()\n",
    "\n",
    "print(\"Optimal Value Function:\", agent.value_function)\n",
    "print(\"Optimal Policy:\", agent.policy)\n"
   ]
  },
  {
   "cell_type": "markdown",
   "metadata": {},
   "source": [
    "# Maze"
   ]
  },
  {
   "cell_type": "code",
   "execution_count": 19,
   "metadata": {},
   "outputs": [
    {
     "name": "stdout",
     "output_type": "stream",
     "text": [
      "Value Function: [-19.84451684 -19.84797093 -19.8358753  -19.81300568 -19.84451684\n",
      " -19.84991095 -19.85765667 -19.86142441 -19.86113988 -19.77332157\n",
      " -19.79465002 -19.83874683 -19.54551498 -19.68580448 -19.81913187\n",
      " -19.78571999 -19.69024604 -19.55054228 -19.33529083 -19.82570494\n",
      " -18.78086734 -17.98410983 -16.77466618 -19.85084734 -19.85661\n",
      " -19.85318447 -19.86272239 -14.89529963 -19.86142319 -19.8680819\n",
      " -19.87048932  -7.30822042 -11.94776379 -19.86358875   0.        ]\n"
     ]
    }
   ],
   "source": [
    "env = MazeEnv()\n",
    "agent = HardCodedAgent(env)\n",
    "value_function = agent.evaluate_policy()\n",
    "print(\"Value Function:\", value_function)"
   ]
  },
  {
   "cell_type": "code",
   "execution_count": 20,
   "metadata": {},
   "outputs": [
    {
     "name": "stdout",
     "output_type": "stream",
     "text": [
      "Optimal Value Function: [-14. -13. -12. -11. -14. -13. -14. -15. -14. -10. -11. -12.  -8.  -9.\n",
      " -11. -10.  -9.  -8.  -7. -11.  -6.  -5.  -4. -14. -13. -12. -13.  -3.\n",
      " -14. -14. -15.  -1.  -2. -15.   0.]\n",
      "Optimal Policy: [0 1 1 0 1 0 3 1 2 0 3 0 0 3 1 1 1 1 0 2 1 1 0 1 1 2 3 0 2 2 3 0 3 2 0]\n"
     ]
    }
   ],
   "source": [
    "env = MazeEnv()\n",
    "agent = HardCodedAgent(env, gamma=1)\n",
    "agent.value_iteration()\n",
    "\n",
    "print(\"Optimal Value Function:\", agent.value_function)\n",
    "print(\"Optimal Policy:\", agent.policy)\n"
   ]
  },
  {
   "cell_type": "code",
   "execution_count": 21,
   "metadata": {},
   "outputs": [],
   "source": [
    "v = np.zeros((8, 8))\n",
    "for i, (x, y) in env._state_to_grid.items():\n",
    "    v[8-y-1, x] =  agent.value_function[i]"
   ]
  },
  {
   "cell_type": "code",
   "execution_count": 22,
   "metadata": {},
   "outputs": [
    {
     "name": "stdout",
     "output_type": "stream",
     "text": [
      "[[  0. -15.   0.   0.   0.   0.   0.   0.]\n",
      " [  0. -14.   0. -14. -15.   0.  -1.  -2.]\n",
      " [-14. -13. -12. -13.   0.   0.   0.  -3.]\n",
      " [  0.   0. -11.   0.   0.  -6.  -5.  -4.]\n",
      " [  0. -11. -10.  -9.  -8.  -7.   0.   0.]\n",
      " [  0. -12.   0.   0.   0.  -8.  -9.   0.]\n",
      " [-14. -13. -14. -15. -14.   0. -10. -11.]\n",
      " [  0. -14.   0.   0. -13. -12. -11.   0.]]\n"
     ]
    }
   ],
   "source": [
    "print(v)"
   ]
  },
  {
   "cell_type": "code",
   "execution_count": null,
   "metadata": {},
   "outputs": [],
   "source": []
  }
 ],
 "metadata": {
  "kernelspec": {
   "display_name": "myenv2",
   "language": "python",
   "name": "python3"
  },
  "language_info": {
   "codemirror_mode": {
    "name": "ipython",
    "version": 3
   },
   "file_extension": ".py",
   "mimetype": "text/x-python",
   "name": "python",
   "nbconvert_exporter": "python",
   "pygments_lexer": "ipython3",
   "version": "3.11.2"
  }
 },
 "nbformat": 4,
 "nbformat_minor": 2
}
