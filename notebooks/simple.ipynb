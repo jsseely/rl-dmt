{
 "cells": [
  {
   "cell_type": "markdown",
   "metadata": {},
   "source": [
    "# init"
   ]
  },
  {
   "cell_type": "code",
   "execution_count": 1,
   "metadata": {},
   "outputs": [],
   "source": [
    "import sys\n",
    "sys.path.append('../src')\n",
    "\n",
    "from environments import CustomMDP, GridMDP\n",
    "from policies import HardCodedAgent"
   ]
  },
  {
   "cell_type": "code",
   "execution_count": 2,
   "metadata": {},
   "outputs": [
    {
     "name": "stdout",
     "output_type": "stream",
     "text": [
      "Value Function: [  0.          -6.49231443 -10.85760469 -13.78848746 -15.75064719\n",
      " -17.05634798 -17.91373152 -18.45968422 -18.78146195 -18.93048576]\n"
     ]
    }
   ],
   "source": [
    "env = CustomMDP()\n",
    "agent = HardCodedAgent(env)\n",
    "value_function = agent.evaluate_policy()\n",
    "print(\"Value Function:\", value_function)"
   ]
  },
  {
   "cell_type": "code",
   "execution_count": 3,
   "metadata": {},
   "outputs": [
    {
     "name": "stdout",
     "output_type": "stream",
     "text": [
      "Optimal Value Function: [ 0.         -1.         -1.95       -2.8525     -3.709875   -4.52438125\n",
      " -5.29816219 -6.03325408 -6.73159137 -7.39501181]\n",
      "Optimal Policy: [0 0 0 0 0 0 0 0 0 0]\n"
     ]
    }
   ],
   "source": [
    "env = CustomMDP()\n",
    "agent = HardCodedAgent(env)\n",
    "agent.value_iteration()\n",
    "\n",
    "print(\"Optimal Value Function:\", agent.value_function)\n",
    "print(\"Optimal Policy:\", agent.policy)\n"
   ]
  },
  {
   "cell_type": "code",
   "execution_count": 4,
   "metadata": {},
   "outputs": [],
   "source": [
    "env._agent_location"
   ]
  },
  {
   "cell_type": "code",
   "execution_count": 13,
   "metadata": {},
   "outputs": [
    {
     "name": "stdout",
     "output_type": "stream",
     "text": [
      "Value Function: [  0.          -7.55860372 -10.48587627 -11.38377519  -7.55860372\n",
      "  -9.59194855 -10.53696679 -10.49293913 -10.48587627 -10.53696679\n",
      "  -9.59779382  -7.56791637 -11.38377519 -10.49293913  -7.56791637\n",
      "   0.        ]\n"
     ]
    }
   ],
   "source": [
    "env = GridMDP()\n",
    "env.reset()\n",
    "agent = HardCodedAgent(env)\n",
    "value_function = agent.evaluate_policy()\n",
    "print(\"Value Function:\", value_function)"
   ]
  },
  {
   "cell_type": "code",
   "execution_count": 6,
   "metadata": {},
   "outputs": [
    {
     "name": "stdout",
     "output_type": "stream",
     "text": [
      "Optimal Value Function: [ 0.     -1.     -1.95   -2.8525 -1.     -1.95   -2.8525 -1.95   -1.95\n",
      " -2.8525 -1.95   -1.     -2.8525 -1.95   -1.      0.    ]\n",
      "Optimal Policy: [0 3 3 0 2 2 0 0 2 0 0 0 1 1 1 0]\n"
     ]
    }
   ],
   "source": [
    "env = GridMDP()\n",
    "env.reset()\n",
    "agent = HardCodedAgent(env)\n",
    "agent.value_iteration()\n",
    "\n",
    "print(\"Optimal Value Function:\", agent.value_function)\n",
    "print(\"Optimal Policy:\", agent.policy)\n"
   ]
  },
  {
   "cell_type": "markdown",
   "metadata": {},
   "source": []
  },
  {
   "cell_type": "code",
   "execution_count": 11,
   "metadata": {},
   "outputs": [
    {
     "name": "stdout",
     "output_type": "stream",
     "text": [
      "----\n",
      "T□□□\n",
      "□□□□\n",
      "□A□□\n",
      "□□□T\n",
      "----\n"
     ]
    }
   ],
   "source": [
    "env.render()"
   ]
  },
  {
   "cell_type": "code",
   "execution_count": 7,
   "metadata": {},
   "outputs": [
    {
     "data": {
      "text/plain": [
       "(13, -1, False, False, {})"
      ]
     },
     "execution_count": 7,
     "metadata": {},
     "output_type": "execute_result"
    }
   ],
   "source": [
    "env.step(0)"
   ]
  },
  {
   "cell_type": "code",
   "execution_count": 8,
   "metadata": {},
   "outputs": [
    {
     "data": {
      "text/plain": [
       "{0: (0, 0),\n",
       " 1: (0, 1),\n",
       " 2: (0, 2),\n",
       " 3: (0, 3),\n",
       " 4: (1, 0),\n",
       " 5: (1, 1),\n",
       " 6: (1, 2),\n",
       " 7: (1, 3),\n",
       " 8: (2, 0),\n",
       " 9: (2, 1),\n",
       " 10: (2, 2),\n",
       " 11: (2, 3),\n",
       " 12: (3, 0),\n",
       " 13: (3, 1),\n",
       " 14: (3, 2),\n",
       " 15: (3, 3)}"
      ]
     },
     "execution_count": 8,
     "metadata": {},
     "output_type": "execute_result"
    }
   ],
   "source": [
    "env._state_to_grid"
   ]
  },
  {
   "cell_type": "code",
   "execution_count": 9,
   "metadata": {},
   "outputs": [
    {
     "data": {
      "text/plain": [
       "9"
      ]
     },
     "execution_count": 9,
     "metadata": {},
     "output_type": "execute_result"
    }
   ],
   "source": [
    "env.reset()"
   ]
  },
  {
   "cell_type": "code",
   "execution_count": null,
   "metadata": {},
   "outputs": [],
   "source": []
  },
  {
   "cell_type": "code",
   "execution_count": 10,
   "metadata": {},
   "outputs": [
    {
     "name": "stdout",
     "output_type": "stream",
     "text": [
      "----\n",
      "T□□□\n",
      "□□□□\n",
      "□A□□\n",
      "□□□T\n",
      "----\n"
     ]
    }
   ],
   "source": [
    "env.render()"
   ]
  },
  {
   "cell_type": "code",
   "execution_count": null,
   "metadata": {},
   "outputs": [],
   "source": []
  }
 ],
 "metadata": {
  "kernelspec": {
   "display_name": "myenv2",
   "language": "python",
   "name": "python3"
  },
  "language_info": {
   "codemirror_mode": {
    "name": "ipython",
    "version": 3
   },
   "file_extension": ".py",
   "mimetype": "text/x-python",
   "name": "python",
   "nbconvert_exporter": "python",
   "pygments_lexer": "ipython3",
   "version": "3.11.2"
  }
 },
 "nbformat": 4,
 "nbformat_minor": 2
}
